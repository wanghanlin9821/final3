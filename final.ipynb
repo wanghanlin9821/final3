{
 "cells": [
  {
   "cell_type": "markdown",
   "metadata": {
    "collapsed": true
   },
   "source": [
    "import all libraries"
   ]
  },
  {
   "cell_type": "heading",
   "metadata": {},
   "level": 1,
   "source": [
    "import all libraries"
   ]
  },
  {
   "cell_type": "code",
   "execution_count": null,
   "metadata": {},
   "outputs": [],
   "source": [
    "import pandas as pd\n",
    "from urllib import request\n",
    "import json\n",
    "import numpy as np\n",
    "import matplotlib.pyplot as plt\n",
    "from sklearn import preprocessing\n",
    "from sklearn.cluster import KMeans\n",
    "from pyecharts import Map\n",
    "import statsmodels.api as sm\n",
    "import pylab\n",
    "from sklearn import linear_model\n",
    "from numpy import random"
   ]
  },
  {
   "cell_type": "heading",
   "metadata": {},
   "level": 1,
   "source": [
    "download the  database from Baidu map and landchian\n",
    "but the source code contents my personal information so there are just csv file"
   ]
  },
  {
   "cell_type": "code",
   "execution_count": null,
   "metadata": {},
   "outputs": [],
   "source": [
    "station = pd.read_csv('station.csv',encoding='gbk')\n",
    "price = pd.read_csv('price.csv',encoding='gbk')\n",
    "distance = pd.read_csv('distance.csv',encoding='gbk')\n",
    "distance['lat'] = ''\n",
    "distance['lng'] = ''\n",
    "for i in range(distance.shape[0]):\n",
    "    sta = distance.iat[i, 1]\n",
    "    lat = ''\n",
    "    lng = ''\n",
    "    for j in range(station.shape[0]):\n",
    "        if sta == station.iat[j,0]:\n",
    "            latlng = station.iat[j,2].split(',')\n",
    "            lat = latlng[-1]\n",
    "            lng = latlng[0]\n",
    "            break\n",
    "    distance.at[i,'lat'] = lat\n",
    "    distance.at[i,'lng'] = lng\n",
    "land = pd.read_csv('land.csv',encoding='gbk')"
   ]
  },
  {
   "cell_type": "heading",
   "metadata": {},
   "level": 2,
   "source": [
    "download information from foursquare "
   ]
  },
  {
   "cell_type": "code",
   "execution_count": null,
   "metadata": {},
   "outputs": [],
   "source": [
    "def get_total_result(Latitude,Longitude,year):\n",
    "    id = 'UCLMNMBNOSE40D4FPNQMCDR3JHNV1ENATZOF23ZV0JRVTSVH'\n",
    "    pw = 'C2HEYAZGPROYQH51F0Y344XSQBIIB2ZCJ0OJ1XAC5SK2KXMA'\n",
    "    url = 'https://api.foursquare.com/v2/venues/explore?client_id={}&client_secret={}&ll={},{}&v={}0201'.\\\n",
    "        format(id, pw, Latitude, Longitude, year)\n",
    "    rq = request.Request(url)\n",
    "    res = request.urlopen(rq)\n",
    "    respoen = res.read()\n",
    "    result = str(respoen, encoding=\"utf-8\")\n",
    "    js = json.loads(result)\n",
    "    return js['response']['totalResults']\n",
    "distance['total_result'] = ''\n",
    "distance['result_before'] = ''\n",
    "distance['total_result'] = distance.apply(\n",
    "    lambda row: get_total_result(row['lat'],row['lng'], '2019'), axis=1)\n",
    "distance['result_before'] = distance.apply(\n",
    "    lambda row: get_total_result(row['lat'],row['lng'], '2015'), axis=1)"
   ]
  },
  {
   "cell_type": "heading",
   "metadata": {},
   "level": 1,
   "source": [
    "generate a new dataframe as database "
   ]
  },
  {
   "cell_type": "code",
   "execution_count": null,
   "metadata": {},
   "outputs": [],
   "source": [
    "database = distance[['county', 'distance', 'total_result', 'result_before']]\n",
    "database['price'] = price['ave price']"
   ]
  },
  {
   "cell_type": "heading",
   "metadata": {},
   "level": 1,
   "source": [
    "merge the information from Baidu map,foursquare ,landchina into database "
   ]
  },
  {
   "cell_type": "code",
   "execution_count": null,
   "metadata": {},
   "outputs": [],
   "source": [
    "database['city'] = ''\n",
    "database['prov'] = ''\n",
    "for i in range(database.shape[0]):\n",
    "    county = database.at[i,'county'][:-2]\n",
    "    city = ''\n",
    "    prov = ''\n",
    "    for j in range(land.shape[0]):\n",
    "        if county == land.at[j,'县']:\n",
    "            city = land.at[j,'市']\n",
    "            prov = land.at[j,'省']\n",
    "            break\n",
    "    database.at[i,'city'] = city\n",
    "    database.at[i,'prov'] = prov\n",
    "database = pd.read_csv('database.csv',encoding='gbk')"
   ]
  },
  {
   "cell_type": "heading",
   "metadata": {},
   "level": 1,
   "source": [
    "datacleaning"
   ]
  },
  {
   "cell_type": "heading",
   "metadata": {},
   "level": 2,
   "source": [
    "output qqplot"
   ]
  },
  {
   "cell_type": "code",
   "execution_count": null,
   "metadata": {},
   "outputs": [],
   "source": [
    "price = database['price']\n",
    "sm.qqplot(price,line='s')\n",
    "pylab.show()"
   ]
  },
  {
   "cell_type": "heading",
   "metadata": {},
   "level": 2,
   "source": [
    "logarithmizing\n"
   ]
  },
  {
   "cell_type": "code",
   "execution_count": null,
   "metadata": {},
   "outputs": [],
   "source": [
    "price = database['price']\n",
    "price = np.log(price)"
   ]
  },
  {
   "cell_type": "heading",
   "metadata": {},
   "level": 2,
   "source": [
    "output qqplot"
   ]
  },
  {
   "cell_type": "code",
   "execution_count": null,
   "metadata": {},
   "outputs": [],
   "source": [
    "sm.qqplot(price,line='s')\n",
    "pylab.show()"
   ]
  },
  {
   "cell_type": "heading",
   "metadata": {},
   "level": 2,
   "source": [
    "delet outlier"
   ]
  },
  {
   "cell_type": "code",
   "execution_count": null,
   "metadata": {},
   "outputs": [],
   "source": [
    "minprice = min(price)\n",
    "database['log price'] = price\n",
    "database = database[database['log price'] > minprice]\n",
    "price = database['log price']"
   ]
  },
  {
   "cell_type": "heading",
   "metadata": {},
   "level": 2,
   "source": [
    "output qqplot"
   ]
  },
  {
   "cell_type": "code",
   "execution_count": null,
   "metadata": {},
   "outputs": [],
   "source": [
    "sm.qqplot(price,line='s')\n",
    "pylab.show()"
   ]
  },
  {
   "cell_type": "heading",
   "metadata": {},
   "level": 2,
   "source": [
    "output hist"
   ]
  },
  {
   "cell_type": "code",
   "execution_count": null,
   "metadata": {},
   "outputs": [],
   "source": [
    "plt.hist(database['log price'],bottom=100,bins=20)\n",
    "plt.show()"
   ]
  },
  {
   "cell_type": "heading",
   "metadata": {},
   "level": 1,
   "source": [
    "use cluster ,cluster the province "
   ]
  },
  {
   "cell_type": "code",
   "execution_count": null,
   "metadata": {},
   "outputs": [],
   "source": [
    "X = database[['price', 'total_result', 'distance']]\n",
    "X= preprocessing.StandardScaler().fit(X).transform(X)\n",
    "k_means = KMeans(init = \"k-means++\", n_clusters = 10, n_init = 120)\n",
    "k_means.fit(X)\n",
    "k_means_labels = k_means.labels_\n",
    "database['label'] = ''\n",
    "database1 = database\n",
    "for i in range(database.shape[0]):\n",
    "    database.at[i,'label'] = k_means_labels[i]\n",
    "lab = 0\n",
    "prove = []\n",
    "labels = []\n",
    "for p in range(database1.shape[0]):\n",
    "    prov = database1.at[p, 'prov']\n",
    "    if prov == '[]':\n",
    "        continue\n",
    "    else:\n",
    "        lab = database1.at[p, 'label']\n",
    "        if prov == '内蒙古自治区':\n",
    "            prov1 = '内蒙古'\n",
    "        elif prov == '黑龙江省':\n",
    "            prov1 = '黑龙江'\n",
    "        else:\n",
    "            prov1 = prov[:2]\n",
    "        prove.append(prov1)\n",
    "        if p == database1.shape[0] - 2:\n",
    "            break\n",
    "        else:\n",
    "            for j in range(p + 1, database1.shape[0]):\n",
    "                if database1.at[j, 'prov'] == prov:\n",
    "                    lab = lab + database1.at[j, 'label']\n",
    "                    database1.at[j, 'prov'] = '[]'\n",
    "            labels.append(lab)"
   ]
  },
  {
   "cell_type": "heading",
   "metadata": {},
   "level": 1,
   "source": [
    "visualization of cluster results "
   ]
  },
  {
   "cell_type": "code",
   "execution_count": null,
   "metadata": {},
   "outputs": [],
   "source": [
    "map2 = Map(\"china map\",'china', width=1200, height=600)\n",
    "map2.add('china', prove, labels,\n",
    "         visual_range=[min(labels), max(labels)],\n",
    "         maptype='china',\n",
    "         is_visualmap=True,\n",
    "         visual_range_color=['#f8f8ff', '#ffd700', '#d94e5d'],\n",
    "         # is_label_show= True,\n",
    "         formatter='value')\n",
    "map2.show_config()\n",
    "map2.render(path=\"china map.html\")"
   ]
  },
  {
   "cell_type": "heading",
   "metadata": {},
   "level": 1,
   "source": [
    "use cluster ,cluster the city "
   ]
  },
  {
   "cell_type": "code",
   "execution_count": null,
   "metadata": {},
   "outputs": [],
   "source": [
    "db = database[database['prov'] == '浙江省']\n",
    "X = database[['price', 'total_result', 'distance']]\n",
    "X= preprocessing.StandardScaler().fit(X).transform(X)\n",
    "k_means = KMeans(init = \"k-means++\", n_clusters = 7, n_init = 120)\n",
    "k_means.fit(X)\n",
    "k_means_labels = k_means.labels_\n",
    "db['label'] = ''\n",
    "db['label'] = ''\n",
    "db['index'] = range(db.shape[0])\n",
    "db = db.set_index('index')\n",
    "db = db.dropna()\n",
    "for i in range(db.shape[0]):\n",
    "    db.at[i,'label'] = k_means_labels[i]\n",
    "\n",
    "cities = []\n",
    "labels = []\n",
    "for p in range(db.shape[0]):\n",
    "    city = db.at[p, 'city']\n",
    "    if city == '[]':\n",
    "        continue\n",
    "    else:\n",
    "        lab = db.at[p, 'label']\n",
    "        cities.append(city)\n",
    "        if p == db.shape[0] - 2:\n",
    "            break\n",
    "        else:\n",
    "            for j in range(p + 1, db.shape[0]):\n",
    "                if db.at[j, 'city'] == city:\n",
    "                    lab = lab + db.at[j, 'label']\n",
    "                    db.at[j, 'city'] = '[]'\n",
    "            labels.append(lab)"
   ]
  },
  {
   "cell_type": "heading",
   "metadata": {},
   "level": 1,
   "source": [
    "visualization of cluster results "
   ]
  },
  {
   "cell_type": "code",
   "execution_count": null,
   "metadata": {},
   "outputs": [],
   "source": [
    "map2 = Map(\"zhejiang map\",'zhejiang', width=1200, height=600)\n",
    "map2.add('zhejiang', cities, labels,\n",
    "         visual_range=[min(labels), max(labels)],\n",
    "         maptype='浙江',\n",
    "         is_visualmap=True,\n",
    "         visual_range_color=['#f8f8ff', '#ffd700', '#d94e5d'],\n",
    "         # is_label_show= True,\n",
    "         formatter='value')\n",
    "map2.show_config()\n",
    "map2.render(path=\"zhejiang map.html\")"
   ]
  },
  {
   "cell_type": "heading",
   "metadata": {},
   "level": 1,
   "source": [
    "regression"
   ]
  },
  {
   "cell_type": "code",
   "execution_count": null,
   "metadata": {},
   "outputs": [],
   "source": [
    "regr = linear_model.LinearRegression()\n",
    "x = np.asanyarray(database[['distance', 'total_result']])\n",
    "y = np.asanyarray(price)\n",
    "regr.fit (x, y)\n",
    "# The coefficients\n",
    "print ('Coefficients: ', regr.coef_)"
   ]
  },
  {
   "cell_type": "heading",
   "metadata": {},
   "level": 1,
   "source": [
    "thanks"
   ]
  },
  {
   "cell_type": "heading",
   "metadata": {},
   "level": 2,
   "source": [
    "my csv has some of the database"
   ]
  },
  {
   "cell_type": "code",
   "execution_count": null,
   "metadata": {},
   "outputs": [],
   "source": []
  }
 ],
 "metadata": {
  "kernelspec": {
   "display_name": "Python 2",
   "language": "python",
   "name": "python2"
  },
  "language_info": {
   "codemirror_mode": {
    "name": "ipython",
    "version": 2
   },
   "file_extension": ".py",
   "mimetype": "text/x-python",
   "name": "python",
   "nbconvert_exporter": "python",
   "pygments_lexer": "ipython2",
   "version": "2.7.6"
  }
 },
 "nbformat": 4,
 "nbformat_minor": 0
}
